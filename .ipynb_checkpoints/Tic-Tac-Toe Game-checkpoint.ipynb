{
 "cells": [
  {
   "cell_type": "code",
   "execution_count": 3,
   "metadata": {},
   "outputs": [
    {
     "name": "stdout",
     "output_type": "stream",
     "text": [
      "[[0. 0. 0.]\n",
      " [0. 0. 0.]\n",
      " [0. 0. 0.]]\n"
     ]
    }
   ],
   "source": [
    "import numpy as np\n",
    "\n",
    "class TicTacToe:\n",
    "    def __init__(self,n):\n",
    "        self.a = np.zeros((n,n))\n",
    "    def print_board(self):\n",
    "        print(self.a)\n",
    "    def check_row(self,x):\n",
    "        for i in range(len(self.a)):\n",
    "            if self.a[i] == x:\n",
    "                \n",
    "            \n",
    "        \n",
    "    def evaluate_board(self):\n",
    "        \n",
    "    \n",
    "    \n",
    "    \n",
    "game = TicTacToe(3)\n",
    "game.print_board()"
   ]
  },
  {
   "cell_type": "code",
   "execution_count": 26,
   "metadata": {},
   "outputs": [
    {
     "data": {
      "text/plain": [
       "array([ True,  True,  True])"
      ]
     },
     "execution_count": 26,
     "metadata": {},
     "output_type": "execute_result"
    }
   ],
   "source": [
    "a = np.ones((3,3)) * 2\n",
    "np.array([2,2,2]) == 2"
   ]
  }
 ],
 "metadata": {
  "kernelspec": {
   "display_name": "Python 3",
   "language": "python",
   "name": "python3"
  },
  "language_info": {
   "codemirror_mode": {
    "name": "ipython",
    "version": 3
   },
   "file_extension": ".py",
   "mimetype": "text/x-python",
   "name": "python",
   "nbconvert_exporter": "python",
   "pygments_lexer": "ipython3",
   "version": "3.7.4"
  }
 },
 "nbformat": 4,
 "nbformat_minor": 2
}
