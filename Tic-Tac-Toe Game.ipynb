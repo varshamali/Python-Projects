{
 "cells": [
  {
   "cell_type": "code",
   "execution_count": 24,
   "metadata": {},
   "outputs": [
    {
     "name": "stdout",
     "output_type": "stream",
     "text": [
      "[[0. 0. 0.]\n",
      " [0. 0. 0.]\n",
      " [0. 0. 0.]]\n",
      "[[2. 0. 0.]\n",
      " [0. 0. 0.]\n",
      " [0. 0. 0.]]\n",
      "[[2. 0. 0.]\n",
      " [2. 0. 0.]\n",
      " [0. 0. 0.]]\n",
      "[[2. 0. 0.]\n",
      " [2. 0. 0.]\n",
      " [2. 0. 0.]]\n"
     ]
    },
    {
     "data": {
      "text/plain": [
       "True"
      ]
     },
     "execution_count": 24,
     "metadata": {},
     "output_type": "execute_result"
    }
   ],
   "source": [
    "import numpy as np\n",
    "\n",
    "class TicTacToe:\n",
    "    def __init__(self,n):\n",
    "        self.a = np.zeros((n,n))\n",
    "        self.shape = n\n",
    "    def print_board(self):\n",
    "        print(self.a)\n",
    "    def set_board(self,x,pos):\n",
    "        self.a[pos[0],pos[1]] = x\n",
    "        self.print_board()\n",
    "        \n",
    "    def check_rows(self,x):\n",
    "        flag = False\n",
    "        for i in range(self.shape):\n",
    "            if np.sum(self.a[i] == x)==self.shape:\n",
    "                flag = True\n",
    "        return flag\n",
    "    def check_columns(self,x):\n",
    "        flag = False\n",
    "        for i in range(self.shape):\n",
    "            if np.sum(self.a[:,i] == x)==self.shape:\n",
    "                flag = True\n",
    "        return flag\n",
    "        \n",
    "        \n",
    "    def evaluate_board(self):\n",
    "        pass\n",
    "        \n",
    "    \n",
    "    \n",
    "    \n",
    "game = TicTacToe(3)\n",
    "game.print_board()\n",
    "#pos = [int(x) for x in input('Enter pos: ').split(',')]\n",
    "game.set_board(2,[0,0])\n",
    "game.set_board(2,[1,0])\n",
    "game.set_board(2,[2,0])\n",
    "#game.set_board(2,pos)\n",
    "game.check_rows(2)\n",
    "game.check_columns(2)"
   ]
  },
  {
   "cell_type": "code",
   "execution_count": 12,
   "metadata": {},
   "outputs": [
    {
     "data": {
      "text/plain": [
       "array([False, False,  True])"
      ]
     },
     "execution_count": 12,
     "metadata": {},
     "output_type": "execute_result"
    }
   ],
   "source": [
    "arr = np.arange(9).reshape(3,3)\n",
    "arr[0] == 2"
   ]
  }
 ],
 "metadata": {
  "kernelspec": {
   "display_name": "Python 3",
   "language": "python",
   "name": "python3"
  },
  "language_info": {
   "codemirror_mode": {
    "name": "ipython",
    "version": 3
   },
   "file_extension": ".py",
   "mimetype": "text/x-python",
   "name": "python",
   "nbconvert_exporter": "python",
   "pygments_lexer": "ipython3",
   "version": "3.7.4"
  }
 },
 "nbformat": 4,
 "nbformat_minor": 2
}
